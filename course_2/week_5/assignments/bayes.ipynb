{
 "cells": [
  {
   "cell_type": "code",
   "execution_count": 13,
   "metadata": {},
   "outputs": [],
   "source": [
    "from sklearn.datasets import load_digits, load_breast_cancer\n",
    "from sklearn.model_selection import cross_val_score\n",
    "from sklearn.naive_bayes import BernoulliNB, MultinomialNB, GaussianNB"
   ]
  },
  {
   "cell_type": "code",
   "execution_count": 12,
   "metadata": {},
   "outputs": [],
   "source": [
    "classifiers = {\n",
    "    'Bernoulli': BernoulliNB(),\n",
    "    'Multinomial': MultinomialNB(),\n",
    "    'Gaussian': GaussianNB()\n",
    "}"
   ]
  },
  {
   "cell_type": "code",
   "execution_count": 15,
   "metadata": {},
   "outputs": [],
   "source": [
    "datasets = {\n",
    "    'digits': load_digits(),\n",
    "    'breast_cancer': load_breast_cancer()\n",
    "}"
   ]
  },
  {
   "cell_type": "code",
   "execution_count": 18,
   "metadata": {},
   "outputs": [
    {
     "name": "stdout",
     "output_type": "stream",
     "text": [
      "digits:\n",
      "\tBernoulli: 0.826\n",
      "\tMultinomial: 0.871\n",
      "\tGaussian: 0.819\n",
      "\n",
      "breast_cancer:\n",
      "\tBernoulli: 0.627\n",
      "\tMultinomial: 0.895\n",
      "\tGaussian: 0.937\n",
      "\n"
     ]
    }
   ],
   "source": [
    "scores = {\n",
    "    'digits': [],\n",
    "    'breast_cancer': []\n",
    "}\n",
    "\n",
    "for ds_name, ds in datasets.items():\n",
    "    print(f'{ds_name}:')\n",
    "    \n",
    "    for clf_name, clf in classifiers.items():\n",
    "        \n",
    "        score = cross_val_score(clf, ds.data, ds.target, cv=3).mean()\n",
    "        scores[ds_name].append(score)\n",
    "    \n",
    "        print(f'\\t{clf_name}: {score:.3f}')\n",
    "    \n",
    "    print()"
   ]
  },
  {
   "cell_type": "code",
   "execution_count": 19,
   "metadata": {},
   "outputs": [],
   "source": [
    "def write_answer(answer, k):\n",
    "    with open(f'bayes_answer{k}.txt', 'w') as f:\n",
    "        f.write(str(answer))"
   ]
  },
  {
   "cell_type": "code",
   "execution_count": 21,
   "metadata": {},
   "outputs": [],
   "source": [
    "write_answer(max(scores['breast_cancer']), 1)\n",
    "write_answer(max(scores['digits']), 2)\n",
    "write_answer('3 4', 3)"
   ]
  }
 ],
 "metadata": {
  "kernelspec": {
   "display_name": "Python 3",
   "language": "python",
   "name": "python3"
  },
  "language_info": {
   "codemirror_mode": {
    "name": "ipython",
    "version": 3
   },
   "file_extension": ".py",
   "mimetype": "text/x-python",
   "name": "python",
   "nbconvert_exporter": "python",
   "pygments_lexer": "ipython3",
   "version": "3.7.3"
  }
 },
 "nbformat": 4,
 "nbformat_minor": 2
}
